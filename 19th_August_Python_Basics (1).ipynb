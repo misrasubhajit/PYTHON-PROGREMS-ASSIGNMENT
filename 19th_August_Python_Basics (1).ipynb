{
 "cells": [
  {
   "cell_type": "code",
   "execution_count": 9,
   "id": "5fb8cccd-26d5-4daa-bfd1-b28f0599327f",
   "metadata": {},
   "outputs": [
    {
     "name": "stdout",
     "output_type": "stream",
     "text": [
      " x = 20\n",
      " y = 10\n"
     ]
    }
   ],
   "source": [
    "'''1) Declare two variables, `x` and `y`, and assign them integer values. Swap the\n",
    "values of these variables without using any temporary variable.'''\n",
    "\n",
    "\n",
    "x = 10\n",
    "y = 20\n",
    "\n",
    "x = x + y\n",
    "y = x - y\n",
    "x = x - y\n",
    "\n",
    "print(\" x =\", x)\n",
    "print(\" y =\", y)\n"
   ]
  },
  {
   "cell_type": "code",
   "execution_count": 1,
   "id": "934992e9-228a-4b07-9da0-d4978c207d97",
   "metadata": {},
   "outputs": [
    {
     "name": "stdin",
     "output_type": "stream",
     "text": [
      "Input the value of leanght  4\n",
      "input the value of width 5\n"
     ]
    },
    {
     "name": "stdout",
     "output_type": "stream",
     "text": [
      " the value of area= 20.0\n"
     ]
    }
   ],
   "source": [
    "'''Create a program that calculates the area of a rectangle. Take the length and\n",
    "width as inputs from the user and store them in variables. Calculate and\n",
    "display the area.'''\n",
    "\n",
    "\n",
    "leanght =float(input( \"Input the value of leanght \"))\n",
    "width = float(input(\"input the value of width\"))\n",
    "\n",
    "area = (leanght*width)\n",
    "\n",
    "print(\" the value of area=\",area)\n"
   ]
  },
  {
   "cell_type": "code",
   "execution_count": 3,
   "id": "4d016b76-b0c0-4978-976f-66793083d76b",
   "metadata": {},
   "outputs": [
    {
     "name": "stdin",
     "output_type": "stream",
     "text": [
      "Enter the Celsius temparature 5\n"
     ]
    },
    {
     "name": "stdout",
     "output_type": "stream",
     "text": [
      "The temperature in Fahrenheit is = 54.5\n"
     ]
    }
   ],
   "source": [
    "'''Write a Python program that converts temperatures from Celsius to\n",
    "Fahrenheit. Take the temperature in Celsius as input, store it in a variable,\n",
    "convert it to Fahrenheit, and display the result.'''\n",
    "\n",
    "\n",
    "A =float(input(\"Enter the Celsius temparature\"))\n",
    "B= (A*9/2)+32\n",
    "print(\"The temperature in Fahrenheit is =\",B)\n"
   ]
  },
  {
   "cell_type": "code",
   "execution_count": 7,
   "id": "75ff7417-0994-4189-af13-ef340d366f01",
   "metadata": {},
   "outputs": [
    {
     "name": "stdin",
     "output_type": "stream",
     "text": [
      " input a string BHY\n"
     ]
    },
    {
     "name": "stdout",
     "output_type": "stream",
     "text": [
      "the lenght of a string is 3\n"
     ]
    }
   ],
   "source": [
    "'''Write a Python program that takes a string as input and prints the length of\n",
    "the string.'''\n",
    "\n",
    "A=input(\" input a string\")\n",
    "B=len(A)\n",
    "print(\"the lenght of a string is\",B)\n"
   ]
  },
  {
   "cell_type": "code",
   "execution_count": 35,
   "id": "48a97e46-9e2b-498f-8704-d6f87b71bf7e",
   "metadata": {},
   "outputs": [
    {
     "name": "stdin",
     "output_type": "stream",
     "text": [
      "Enter a sentence:  ASDF\n"
     ]
    },
    {
     "name": "stdout",
     "output_type": "stream",
     "text": [
      "Number of vowels in the sentence: 1\n"
     ]
    }
   ],
   "source": [
    "'''Create a program that takes a sentence from the user and counts the number\n",
    "of vowels (a, e, i, o, u) in the string.'''\n",
    "\n",
    "a = input(\"Enter a sentence: \")\n",
    "b = 0\n",
    "for char in a:\n",
    "    if char in \"aeiouAEIOU\":\n",
    "        b += 1\n",
    "\n",
    "# Display the result\n",
    "print(f\"Number of vowels in the sentence: {b}\")\n",
    "\n",
    "\n",
    "\n"
   ]
  },
  {
   "cell_type": "code",
   "execution_count": 41,
   "id": "81fbfe61-845d-499f-9331-7dd0848b6846",
   "metadata": {},
   "outputs": [
    {
     "name": "stdin",
     "output_type": "stream",
     "text": [
      "enter the string ASDF\n"
     ]
    },
    {
     "name": "stdout",
     "output_type": "stream",
     "text": [
      "the reversed string is  FDSA\n"
     ]
    }
   ],
   "source": [
    "'''Given a string, reverse the order of characters using string slicing and print\n",
    "the reversed string.'''\n",
    "e= input(\"enter the string\")\n",
    "f=e[::-1]\n",
    "print(\"the reversed string is \",f)\n"
   ]
  },
  {
   "cell_type": "code",
   "execution_count": 51,
   "id": "9ff8455a-d696-484a-9401-d95174160eb0",
   "metadata": {},
   "outputs": [
    {
     "ename": "IndentationError",
     "evalue": "expected an indented block after 'if' statement on line 4 (3359169119.py, line 6)",
     "output_type": "error",
     "traceback": [
      "\u001b[0;36m  Cell \u001b[0;32mIn[51], line 6\u001b[0;36m\u001b[0m\n\u001b[0;31m    print(\"the number is palindrom\")\u001b[0m\n\u001b[0m    ^\u001b[0m\n\u001b[0;31mIndentationError\u001b[0m\u001b[0;31m:\u001b[0m expected an indented block after 'if' statement on line 4\n"
     ]
    }
   ],
   "source": [
    "'''Write a program that takes a string as input and checks if it is a palindrome'''\n",
    "a=input(\"ENTER A SENTENCE\")\n",
    "b=a[::-1]\n",
    "if b(a):\n",
    "    \n",
    "print(\"the number is palindrom\")\n",
    "else:\n",
    "    print(\"the number is not palindrom\")\n",
    "    \n",
    "\n"
   ]
  },
  {
   "cell_type": "code",
   "execution_count": 54,
   "id": "a9f467eb-c22a-4768-a02b-758267685b22",
   "metadata": {},
   "outputs": [
    {
     "name": "stdin",
     "output_type": "stream",
     "text": [
      "enter a string MY name is subhajit\n"
     ]
    },
    {
     "name": "stdout",
     "output_type": "stream",
     "text": [
      "the modified text is MYnameissubhajit\n"
     ]
    }
   ],
   "source": [
    "'''Create a program that takes a string as input and removes all the spaces from\n",
    "it. Print the modified string without spaces.'''\n",
    "\n",
    "a=input(\"enter a string\")\n",
    "b=a.replace(\" \",\"\")\n",
    "print(\"the modified text is\",b)\n",
    "\n"
   ]
  }
 ],
 "metadata": {
  "kernelspec": {
   "display_name": "Python 3 (ipykernel)",
   "language": "python",
   "name": "python3"
  },
  "language_info": {
   "codemirror_mode": {
    "name": "ipython",
    "version": 3
   },
   "file_extension": ".py",
   "mimetype": "text/x-python",
   "name": "python",
   "nbconvert_exporter": "python",
   "pygments_lexer": "ipython3",
   "version": "3.10.8"
  }
 },
 "nbformat": 4,
 "nbformat_minor": 5
}
